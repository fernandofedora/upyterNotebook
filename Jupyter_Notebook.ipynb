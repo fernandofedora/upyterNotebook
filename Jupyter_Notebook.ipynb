{
 "cells": [
  {
   "cell_type": "markdown",
   "metadata": {},
   "source": [
    "<center>\n",
    "    <img src=\"https://cf-courses-data.s3.us.cloud-object-storage.appdomain.cloud/IBMDeveloperSkillsNetwork-DS0105EN-SkillsNetwork/labs/Module2/images/SN_web_lightmode.png\" width=\"300\" alt=\"cognitiveclass.ai logo\">\n",
    "</center>\n"
   ]
  },
  {
   "cell_type": "markdown",
   "metadata": {},
   "source": [
    "#### Add your code below following the instructions given in the course\n"
   ]
  },
  {
   "cell_type": "markdown",
   "metadata": {
    "tags": []
   },
   "source": [
    "## Exploring Data Trends: A Beginner's Journey in Jupyter Notebook"
   ]
  },
  {
   "cell_type": "markdown",
   "metadata": {},
   "source": [
    "# Introduction\n",
    "\n",
    "Welcome to my Jupyter Notebook project! In this notebook, we will explore various data analysis techniques and uncover interesting insights. We will dive into datasets, visualize trends, and perform statistical analysis. Whether you're new to data analysis or looking to enhance your skills, this notebook will provide you with an exciting learning experience.\n",
    "\n",
    "Let's get started!"
   ]
  },
  {
   "cell_type": "markdown",
   "metadata": {},
   "source": [
    "## Data Science Languages\n",
    "\n",
    "In the field of data science, there are several programming languages commonly used for data analysis, machine learning, and statistical modeling. Here are a few prominent ones:\n",
    "\n",
    "- Python: Python is a versatile language with a rich ecosystem of libraries such as NumPy, Pandas, and scikit-learn, making it a popular choice for data science tasks.\n",
    "\n",
    "- R: R is a statistical programming language known for its extensive collection of packages and tools specifically designed for data analysis and visualization.\n",
    "\n",
    "- Julia: Julia is a high-level, high-performance language that combines the ease of use of Python with the speed of traditional compiled languages, making it suitable for data science and numerical computing.\n",
    "\n",
    "- SQL: While not a programming language per se, SQL (Structured Query Language) is essential for working with databases and querying structured data.\n",
    "\n",
    "These languages offer various strengths and capabilities, and the choice of language depends on the specific requirements of the data science project."
   ]
  },
  {
   "cell_type": "markdown",
   "metadata": {},
   "source": [
    "## Data Science Libraries\n",
    "\n",
    "When working on data science projects, there are several libraries available that provide powerful tools and functionalities for data manipulation, analysis, and machine learning. Here are some widely used data science libraries:\n",
    "\n",
    "- NumPy: NumPy is a fundamental library for scientific computing in Python. It provides support for large, multi-dimensional arrays and a wide range of mathematical functions.\n",
    "\n",
    "- Pandas: Pandas is a popular library for data manipulation and analysis. It offers data structures like DataFrames for handling structured data and provides functions for data cleaning, transformation, and exploration.\n",
    "\n",
    "- scikit-learn: scikit-learn is a comprehensive library for machine learning in Python. It includes various algorithms for classification, regression, clustering, and more, along with tools for model evaluation and data preprocessing.\n",
    "\n",
    "- TensorFlow: TensorFlow is an open-source library for machine learning and deep learning. It provides a flexible framework for building and training neural networks across a range of hardware platforms.\n",
    "\n",
    "- PyTorch: PyTorch is another powerful library for deep learning. It offers dynamic computation graphs, making it easy to define and train complex neural networks.\n",
    "\n",
    "- Matplotlib: Matplotlib is a plotting library that enables the creation of a wide range of visualizations. It provides a flexible interface for creating bar plots, line plots, scatter plots, and more.\n",
    "\n",
    "These libraries are just a few examples, and there are many more specialized libraries available for specific data science tasks. As you explore and work on data science projects, you'll likely encounter and utilize a combination of these libraries."
   ]
  },
  {
   "cell_type": "markdown",
   "metadata": {},
   "source": [
    "## Data Science Tools\n",
    "\n",
    "| Tool         | Description                                              |\n",
    "|--------------|----------------------------------------------------------|\n",
    "| Python       | A versatile programming language for data science tasks. |\n",
    "| R            | A statistical programming language for data analysis.    |\n",
    "| SQL          | A language for managing and querying relational databases.|\n",
    "| Jupyter Notebook | An interactive notebook for data exploration and analysis. |\n",
    "| NumPy        | A library for numerical computing with multi-dimensional arrays. |\n",
    "| Pandas       | A library for data manipulation and analysis.            |\n",
    "| scikit-learn | A library for machine learning in Python.                |\n",
    "| TensorFlow   | A deep learning framework for building neural networks.  |\n",
    "| PyTorch      | A deep learning library with dynamic computation graphs. |\n",
    "| Tableau      | A powerful tool for data visualization and analytics.    |\n",
    "| Power BI     | A business analytics tool for interactive data visualization. |\n",
    "| Apache Spark | A distributed data processing engine for big data analytics. |\n",
    "\n",
    "This table provides a glimpse of some commonly used tools in the field of data science. It's worth noting that the field is constantly evolving, and new tools and technologies emerge regularly. As you explore the world of data science."
   ]
  },
  {
   "cell_type": "markdown",
   "metadata": {},
   "source": [
    "## Arithmetic Expressions\n",
    "\n",
    "Arithmetic expressions are fundamental in mathematics and programming. They involve mathematical operations such as addition, subtraction, multiplication, and division. They can also include parentheses to define the order of operations.\n",
    "\n",
    "Here are some examples of arithmetic expressions:\n",
    "\n",
    "1. Addition:\n",
    "   - `2 + 3` equals 5\n",
    "   - `10.5 + 7.2` equals 17.7\n",
    "\n",
    "2. Subtraction:\n",
    "   - `8 - 5` equals 3\n",
    "   - `15.3 - 4.7` equals 10.6\n",
    "\n",
    "3. Multiplication:\n",
    "   - `4 * 5` equals 20\n",
    "   - `2.5 * 3.2` equals 8.0\n",
    "\n",
    "4. Division:\n",
    "   - `10 / 2` equals 5\n",
    "   - `15.6 / 2.5` equals 6.24\n",
    "\n",
    "5. Parentheses:\n",
    "   - `(4 + 5) * 2` equals 18\n",
    "   - `(10 - 2) / (3 + 1)` equals 2\n",
    "\n",
    "Arithmetic expressions can be as simple as adding two numbers or as complex as combining multiple operations and parentheses. They are used extensively in mathematical calculations and data manipulations in various programming languages.\n"
   ]
  },
  {
   "cell_type": "code",
   "execution_count": 2,
   "metadata": {
    "tags": []
   },
   "outputs": [
    {
     "name": "stdout",
     "output_type": "stream",
     "text": [
      "Multiplication Result: 15\n",
      "Addition Result: 17\n"
     ]
    }
   ],
   "source": [
    "import numpy as np\n",
    "\n",
    "# Multiply two numbers using NumPy\n",
    "a = 5\n",
    "b = 3\n",
    "multiplication_result = np.multiply(a, b)\n",
    "print(\"Multiplication Result:\", multiplication_result)\n",
    "\n",
    "# Add two numbers using NumPy\n",
    "x = 10\n",
    "y = 7\n",
    "addition_result = np.add(x, y)\n",
    "print(\"Addition Result:\", addition_result)"
   ]
  },
  {
   "cell_type": "code",
   "execution_count": 3,
   "metadata": {
    "tags": []
   },
   "outputs": [
    {
     "name": "stdout",
     "output_type": "stream",
     "text": [
      "Hours: 2.5\n"
     ]
    }
   ],
   "source": [
    "import pandas as pd\n",
    "\n",
    "# Convert minutes to hours using Pandas\n",
    "minutes = 150\n",
    "hours = pd.to_timedelta(minutes, unit='m').total_seconds() / 3600\n",
    "print(\"Hours:\", hours)"
   ]
  },
  {
   "cell_type": "markdown",
   "metadata": {},
   "source": [
    "## Objectives\n",
    "\n",
    "- Gain an understanding of the core concepts of data science\n",
    "- Learn various data manipulation and analysis techniques\n",
    "- Explore machine learning algorithms and their applications\n",
    "- Develop skills in data visualization and storytelling\n",
    "- Understand the importance of data ethics and privacy\n",
    "- Apply data science techniques to real-world problems and datasets\n",
    "- Collaborate with peers and learn from their experiences\n",
    "- Stay updated with the latest trends and advancements in the field"
   ]
  },
  {
   "cell_type": "markdown",
   "metadata": {
    "tags": []
   },
   "source": [
    "# **Author: Fernando Espinoza**"
   ]
  },
  {
   "cell_type": "code",
   "execution_count": null,
   "metadata": {},
   "outputs": [],
   "source": []
  }
 ],
 "metadata": {
  "kernelspec": {
   "display_name": "Python",
   "language": "python",
   "name": "conda-env-python-py"
  },
  "language_info": {
   "codemirror_mode": {
    "name": "ipython",
    "version": 3
   },
   "file_extension": ".py",
   "mimetype": "text/x-python",
   "name": "python",
   "nbconvert_exporter": "python",
   "pygments_lexer": "ipython3",
   "version": "3.7.12"
  }
 },
 "nbformat": 4,
 "nbformat_minor": 4
}
